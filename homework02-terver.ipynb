{
 "cells": [
  {
   "cell_type": "code",
   "execution_count": 5,
   "id": "acc1c985",
   "metadata": {},
   "outputs": [],
   "source": [
    "from math import factorial\n",
    "import math\n",
    "\n",
    "def combinations(n, k):\n",
    "    return int(factorial(n) / (factorial(k) * factorial(n - k)))\n",
    "\n",
    "# Pn(X=k) = C(n,k) * p ** k * q ** (n-k)\n",
    "def bernulli(n, k, p):\n",
    "    return combinations(n, k) * p ** k * (1 - p) ** (n - k)"
   ]
  },
  {
   "cell_type": "markdown",
   "id": "22b3180d",
   "metadata": {},
   "source": [
    "### 1. Вероятность того, что стрелок попадет в мишень, выстрелив один раз, равна 0.8. Стрелок выстрелил 100 раз. Найдите вероятность того, что стрелок попадет в цель ровно 85 раз."
   ]
  },
  {
   "cell_type": "code",
   "execution_count": 6,
   "id": "aa8412d4",
   "metadata": {},
   "outputs": [
    {
     "name": "stdout",
     "output_type": "stream",
     "text": [
      "P(85) = 4.81%\n"
     ]
    }
   ],
   "source": [
    "n = 100\n",
    "k = 85\n",
    "p = 0.8\n",
    "\n",
    "# Используем формулу Бернулли\n",
    "P = bernulli(n, k, p)\n",
    "print(f'P(85) = {round(P, 4) * 100}%')"
   ]
  },
  {
   "cell_type": "markdown",
   "id": "f1de1f19",
   "metadata": {},
   "source": [
    "### 2. Вероятность того, что лампочка перегорит в течение первого дня эксплуатации, равна 0.0004. В жилом комплексе после ремонта в один день включили 5000 новых лампочек.\n",
    "**_Какова вероятность, что ни одна из них не перегорит в первый день?_**"
   ]
  },
  {
   "cell_type": "code",
   "execution_count": 7,
   "id": "d3644ce2",
   "metadata": {},
   "outputs": [
    {
     "name": "stdout",
     "output_type": "stream",
     "text": [
      "Пуассон: P = 13.533528%\n",
      "Бернулли: P = 13.528115%\n"
     ]
    }
   ],
   "source": [
    "n = 5000\n",
    "p = 0.0004\n",
    "q = 1 - p\n",
    "# Используем формулу распределения Пуассона\n",
    "# P(m) = lambd ** m / m! * e ** (-lambd)\n",
    "m = 0\n",
    "lambd = p * n\n",
    "P = lambd ** m / factorial(m) * math.e ** (-lambd)\n",
    "print(f'Пуассон: P = {round(P * 100, 6)}%')\n",
    "\n",
    "# Используем формулу Бернулли\n",
    "P = bernulli(n, m, p)\n",
    "print(f'Бернулли: P = {round(P * 100, 6)}%')\n"
   ]
  },
  {
   "cell_type": "markdown",
   "id": "db5592db",
   "metadata": {},
   "source": [
    "**_Какова вероятность, что перегорят ровно две?_**"
   ]
  },
  {
   "cell_type": "code",
   "execution_count": 8,
   "id": "adee80b7",
   "metadata": {},
   "outputs": [
    {
     "name": "stdout",
     "output_type": "stream",
     "text": [
      "Пуассон: P = 27.067057%\n",
      "Бернулли: P = 27.072472%\n"
     ]
    }
   ],
   "source": [
    "m = 2\n",
    "\n",
    "# Используем формулу распределения Пуассона\n",
    "P = lambd ** m / factorial(m) * math.e ** (-lambd)\n",
    "print(f'Пуассон: P = {round(P * 100, 6)}%')\n",
    "\n",
    "# Используем формулу Бернулли\n",
    "P = bernulli(n, m, p)\n",
    "print(f'Бернулли: P = {round(P * 100, 6)}%')"
   ]
  },
  {
   "cell_type": "markdown",
   "id": "62884c9f",
   "metadata": {},
   "source": [
    "### 3. Монету подбросили 144 раза. Какова вероятность, что орел выпадет ровно 70 раз?"
   ]
  },
  {
   "cell_type": "code",
   "execution_count": 11,
   "id": "3d20970a",
   "metadata": {},
   "outputs": [
    {
     "name": "stdout",
     "output_type": "stream",
     "text": [
      "48.28% <= P <= 48.97%\n"
     ]
    }
   ],
   "source": [
    "# np-q <= k0 <= np+p\n",
    "# k0 = p(n+1) = > p = k0/(n+1)\n",
    "# k0 = np-(1-p)=np+p-1=p(n+1)-1 => p = (k0+1)/(n+1)\n",
    "k0 = 70\n",
    "n = 144\n",
    "p1 = k0/(n+1)\n",
    "p2 = (k0+1)/(n+1)\n",
    "print(f'{round(p1 * 100, 2)}% <= P <= {round(p2 * 100, 2)}%')"
   ]
  },
  {
   "cell_type": "markdown",
   "id": "eb19fc48",
   "metadata": {},
   "source": [
    "### 4. В первом ящике находится 10 мячей, из которых 7 - белые. Во втором ящике - 11 мячей, из которых 9 белых. Из каждого ящика вытаскивают случайным образом по два мяча.\n",
    "**_Какова вероятность того, что все мячи белые?_**"
   ]
  },
  {
   "cell_type": "code",
   "execution_count": 4,
   "id": "cfa241e1",
   "metadata": {},
   "outputs": [
    {
     "name": "stdout",
     "output_type": "stream",
     "text": [
      "P = 30.55%\n"
     ]
    }
   ],
   "source": [
    "P1 = 7/10 * 6/9\n",
    "P2 = 9/11 * 8/10\n",
    "P = P1 * P2\n",
    "print(f'P = {round(P, 4) * 100}%')"
   ]
  },
  {
   "cell_type": "markdown",
   "id": "992e6da2",
   "metadata": {},
   "source": [
    "**_Какова вероятность того, что ровно два мяча белые?_**"
   ]
  },
  {
   "cell_type": "code",
   "execution_count": 9,
   "id": "5c7aabc2",
   "metadata": {},
   "outputs": [
    {
     "name": "stdout",
     "output_type": "stream",
     "text": [
      "P = 20.48%\n"
     ]
    }
   ],
   "source": [
    "# 2 мяча из первого ящика\n",
    "P1 = 7/10 * 6/9 * 2/11 * 1/10\n",
    "# 1 из первого ящика, 1 из второго ящика (4 варианта)\n",
    "P2 = 4 * 7/10 * 3/9 * 9/11 * 2/10\n",
    "# 2 мяча из второго ящика\n",
    "P3 = 3/10 * 2/9 * 9/11 * 8/10\n",
    "P = P1 + P2 + P3\n",
    "print(f'P = {round(P, 4) * 100}%')"
   ]
  },
  {
   "cell_type": "markdown",
   "id": "90b6f25e",
   "metadata": {},
   "source": [
    "**_Какова вероятность того, что хотя бы один мяч белый?_**"
   ]
  },
  {
   "cell_type": "code",
   "execution_count": 10,
   "id": "cba38de8",
   "metadata": {},
   "outputs": [
    {
     "name": "stdout",
     "output_type": "stream",
     "text": [
      "P = 99.88%\n"
     ]
    }
   ],
   "source": [
    "# не было извлечено ни одного белого мяча\n",
    "P1 = 3/10 * 2/9 * 2/11 * 1/10\n",
    "P = 1 - P1\n",
    "print(f'P = {round(P, 4) * 100}%')"
   ]
  }
 ],
 "metadata": {
  "kernelspec": {
   "display_name": "Python 3 (ipykernel)",
   "language": "python",
   "name": "python3"
  },
  "language_info": {
   "codemirror_mode": {
    "name": "ipython",
    "version": 3
   },
   "file_extension": ".py",
   "mimetype": "text/x-python",
   "name": "python",
   "nbconvert_exporter": "python",
   "pygments_lexer": "ipython3",
   "version": "3.9.13"
  }
 },
 "nbformat": 4,
 "nbformat_minor": 5
}
