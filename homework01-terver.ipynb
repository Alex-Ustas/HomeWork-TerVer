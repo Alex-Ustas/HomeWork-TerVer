{
 "cells": [
  {
   "cell_type": "markdown",
   "id": "5a5e4ab2",
   "metadata": {},
   "source": [
    "### 1. Из колоды в 52 карты извлекаются случайным образом 4 карты."
   ]
  },
  {
   "cell_type": "markdown",
   "id": "2b27041f",
   "metadata": {},
   "source": [
    "_**a) Найти вероятность того, что все карты – крести.**_"
   ]
  },
  {
   "cell_type": "code",
   "execution_count": 1,
   "id": "73df3296",
   "metadata": {},
   "outputs": [],
   "source": [
    "# Функция сочетания\n",
    "from math import factorial\n",
    "def combinations(n, k):\n",
    "    return int(factorial(n) / (factorial(k) * factorial(n - k)))"
   ]
  },
  {
   "cell_type": "code",
   "execution_count": 2,
   "id": "3f355459",
   "metadata": {},
   "outputs": [
    {
     "name": "stdout",
     "output_type": "stream",
     "text": [
      "m = 715\n"
     ]
    }
   ],
   "source": [
    "# число благоприятных исходов - 4 карты одной масти\n",
    "m = combinations(13, 4)\n",
    "print(f'm = {m}')"
   ]
  },
  {
   "cell_type": "code",
   "execution_count": 3,
   "id": "a22fa05b",
   "metadata": {},
   "outputs": [
    {
     "name": "stdout",
     "output_type": "stream",
     "text": [
      "n = 270725\n"
     ]
    }
   ],
   "source": [
    "# общее количество всех исходов\n",
    "n = combinations(52, 4)\n",
    "print(f'n = {n}')"
   ]
  },
  {
   "cell_type": "code",
   "execution_count": 9,
   "id": "ad35bb4b",
   "metadata": {},
   "outputs": [
    {
     "name": "stdout",
     "output_type": "stream",
     "text": [
      "P(4 карты крести) = 28.13%\n"
     ]
    }
   ],
   "source": [
    "# вероятность вытащить 4 карты одной масти\n",
    "P = m / n\n",
    "print(f'P(4 карты крести) = {round(P, 4) * 100}%')"
   ]
  },
  {
   "cell_type": "markdown",
   "id": "8b880750",
   "metadata": {},
   "source": [
    "_**б) Найти вероятность, что среди 4-х карт окажется хотя бы один туз.**_"
   ]
  },
  {
   "cell_type": "code",
   "execution_count": 10,
   "id": "2ba0f821",
   "metadata": {},
   "outputs": [
    {
     "name": "stdout",
     "output_type": "stream",
     "text": [
      "n = 270725\n"
     ]
    }
   ],
   "source": [
    "# общее количество всех исходов\n",
    "n = combinations(52, 4)\n",
    "print(f'n = {n}')"
   ]
  },
  {
   "cell_type": "code",
   "execution_count": 11,
   "id": "22dfcdb6",
   "metadata": {},
   "outputs": [
    {
     "name": "stdout",
     "output_type": "stream",
     "text": [
      "m = 76145\n"
     ]
    }
   ],
   "source": [
    "# один туз из 4-х карт\n",
    "m = combinations(4,1) * combinations(48,3) + combinations(4,2) * combinations(48,2) + combinations(4,3) * combinations(48,1) + 1\n",
    "print(f'm = {m}')"
   ]
  },
  {
   "cell_type": "code",
   "execution_count": 13,
   "id": "2452b74d",
   "metadata": {},
   "outputs": [
    {
     "name": "stdout",
     "output_type": "stream",
     "text": [
      "P(1 туз из 4-х карт) = 28.13%\n"
     ]
    }
   ],
   "source": [
    "# вероятность вытащить один туз\n",
    "P = m / n\n",
    "print(f'P(1 туз из 4-х карт) = {round(P, 4) * 100}%')"
   ]
  },
  {
   "cell_type": "markdown",
   "id": "322fd924",
   "metadata": {},
   "source": [
    "### 2. На входной двери подъезда установлен кодовый замок, содержащий десять кнопок с цифрами от 0 до 9. Код содержит три цифры, которые нужно нажать одновременно. Какова вероятность того, что человек, не знающий код, откроет дверь с первой попытки?"
   ]
  },
  {
   "cell_type": "code",
   "execution_count": 15,
   "id": "6e8edecd",
   "metadata": {},
   "outputs": [
    {
     "name": "stdout",
     "output_type": "stream",
     "text": [
      "n = 120\n"
     ]
    }
   ],
   "source": [
    "# общее число всех исходов\n",
    "n = combinations(10, 3)\n",
    "print(f'n = {n}')"
   ]
  },
  {
   "cell_type": "code",
   "execution_count": 17,
   "id": "48919267",
   "metadata": {},
   "outputs": [
    {
     "name": "stdout",
     "output_type": "stream",
     "text": [
      "P(открыть с первой попытки) = 0.83%\n"
     ]
    }
   ],
   "source": [
    "# вероятность открыть с первой попытки\n",
    "P = 1 / n\n",
    "print(f'P(открыть с первой попытки) = {round(P, 4) * 100}%')"
   ]
  },
  {
   "cell_type": "markdown",
   "id": "58ecb438",
   "metadata": {},
   "source": [
    "### 3. В ящике имеется 15 деталей, из которых 9 окрашены. Рабочий случайным образом извлекает 3 детали. Какова вероятность того, что все извлеченные детали окрашены?"
   ]
  },
  {
   "cell_type": "code",
   "execution_count": 18,
   "id": "6a4ed860",
   "metadata": {},
   "outputs": [
    {
     "name": "stdout",
     "output_type": "stream",
     "text": [
      "n = 455\n"
     ]
    }
   ],
   "source": [
    "# общее число всех исходов\n",
    "n = combinations(15, 3)\n",
    "print(f'n = {n}')"
   ]
  },
  {
   "cell_type": "code",
   "execution_count": 19,
   "id": "f5128a6c",
   "metadata": {},
   "outputs": [
    {
     "name": "stdout",
     "output_type": "stream",
     "text": [
      "m = 84\n"
     ]
    }
   ],
   "source": [
    "# три окрашенные детали\n",
    "m = combinations(9, 3)\n",
    "print(f'm = {m}')"
   ]
  },
  {
   "cell_type": "code",
   "execution_count": 24,
   "id": "34fe27ac",
   "metadata": {},
   "outputs": [
    {
     "name": "stdout",
     "output_type": "stream",
     "text": [
      "P(три окрашенные детали) = 18.4615%\n"
     ]
    }
   ],
   "source": [
    "# вероятность вытащить 3 окрашенные детали\n",
    "P = m / n\n",
    "print(f'P(три окрашенные детали) = {round(P, 6) * 100}%')"
   ]
  },
  {
   "cell_type": "markdown",
   "id": "0cb96aa1",
   "metadata": {},
   "source": [
    "### 4. В лотерее 100 билетов. Из них 2 выигрышных. Какова вероятность того, что 2 приобретенных билета окажутся выигрышными?"
   ]
  },
  {
   "cell_type": "code",
   "execution_count": 27,
   "id": "557f7f64",
   "metadata": {},
   "outputs": [
    {
     "name": "stdout",
     "output_type": "stream",
     "text": [
      "P(вероятность двух выигрышных билетов) = 0.0101%\n"
     ]
    }
   ],
   "source": [
    "# вероятность выигрышных билетов\n",
    "P = (1 / 100) * (1 / 99)\n",
    "print(f'P(вероятность двух выигрышных билетов) = {round(P, 6) * 100}%')"
   ]
  },
  {
   "cell_type": "code",
   "execution_count": null,
   "id": "1fede158",
   "metadata": {},
   "outputs": [],
   "source": []
  }
 ],
 "metadata": {
  "kernelspec": {
   "display_name": "Python 3 (ipykernel)",
   "language": "python",
   "name": "python3"
  },
  "language_info": {
   "codemirror_mode": {
    "name": "ipython",
    "version": 3
   },
   "file_extension": ".py",
   "mimetype": "text/x-python",
   "name": "python",
   "nbconvert_exporter": "python",
   "pygments_lexer": "ipython3",
   "version": "3.9.13"
  }
 },
 "nbformat": 4,
 "nbformat_minor": 5
}
