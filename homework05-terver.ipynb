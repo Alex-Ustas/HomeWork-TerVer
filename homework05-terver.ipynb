{
 "cells": [
  {
   "cell_type": "code",
   "execution_count": 1,
   "id": "522382ed",
   "metadata": {},
   "outputs": [],
   "source": [
    "from scipy import stats\n",
    "import numpy as np"
   ]
  },
  {
   "cell_type": "markdown",
   "id": "129303eb",
   "metadata": {},
   "source": [
    "### 2. Проведите тест гипотезы. Утверждается, что шарики для подшипников, изготовленные автоматическим станком, имеют средний диаметр 17 мм. Используя односторонний критерий с α=0,05, проверить эту гипотезу, если в выборке из n=100 шариков средний диаметр оказался равным 17.5 мм, а дисперсия известна и равна 4 кв. мм."
   ]
  },
  {
   "cell_type": "code",
   "execution_count": 19,
   "id": "e20348da",
   "metadata": {},
   "outputs": [
    {
     "name": "stdout",
     "output_type": "stream",
     "text": [
      "Наблюдаемое значение z-критерия: 2.5\n",
      "Табличное значение z-критерия: 1.6449\n",
      "Отвергаем нулевую гипотезу H0\n"
     ]
    }
   ],
   "source": [
    "# H0: mu = mu0 = 17\n",
    "# H1: mu > mu0\n",
    "n = 100\n",
    "sigma = np.sqrt(4)\n",
    "mu = 17.5\n",
    "mu0 = 17\n",
    "z=(mu-mu0) / (sigma/np.sqrt(n))\n",
    "print(f'Наблюдаемое значение z-критерия: {round(z, 4)}')\n",
    "\n",
    "alpha = 0.05\n",
    "zt=stats.norm.ppf(1 - alpha)\n",
    "print(f'Табличное значение z-критерия: {round(zt, 4)}')\n",
    "\n",
    "if z > zt:\n",
    "    print('Отвергаем нулевую гипотезу H0')\n",
    "else:\n",
    "    print('Принимаем нулевую гипотезу H0')"
   ]
  },
  {
   "cell_type": "markdown",
   "id": "a3e80c6b",
   "metadata": {},
   "source": [
    "### 3. Проведите тест гипотезы. Продавец утверждает, что средний вес пачки печенья составляет 200 г. Из партии извлечена выборка из 10 пачек. Вес каждой пачки составляет: 202, 203, 199, 197, 195, 201, 200, 204, 194, 190. Известно, что их веса распределены нормально. Верно ли утверждение продавца, если учитывать, что доверительная вероятность равна 99%? (Провести двусторонний тест.)"
   ]
  },
  {
   "cell_type": "code",
   "execution_count": 22,
   "id": "99ff91a1",
   "metadata": {
    "scrolled": true
   },
   "outputs": [
    {
     "name": "stdout",
     "output_type": "stream",
     "text": [
      "Наблюдаемое значение t-критерия: -1.0651\n",
      "Табличное значение t-критерия: 3.2498\n",
      "Принимаем нулевую гипотезу H0\n"
     ]
    }
   ],
   "source": [
    "# H0: mu = mu0 = 200\n",
    "# H1: mu <> mu0\n",
    "\n",
    "mu0 = 200\n",
    "batch = np.array([202, 203, 199, 197, 195, 201, 200, 204, 194, 190])\n",
    "alpha = 1 - 0.99\n",
    "\n",
    "tn = (np.average(batch) - mu0) / (np.std(batch, ddof=1) / len(batch)**0.5)\n",
    "print(f'Наблюдаемое значение t-критерия: {round(tn, 4)}')\n",
    "\n",
    "tt=stats.t.ppf(1 - alpha/2, len(batch)-1)\n",
    "print(f'Табличное значение t-критерия: {round(tt, 4)}')\n",
    "\n",
    "if abs(tn) > tt:\n",
    "    print('Отвергаем нулевую гипотезу H0')\n",
    "else:\n",
    "    print('Принимаем нулевую гипотезу H0')    "
   ]
  },
  {
   "cell_type": "markdown",
   "id": "b659ce9c",
   "metadata": {},
   "source": [
    "### 4. Есть ли статистически значимые различия в росте дочерей? Рост матерей 172, 177, 158, 170, 178,175, 164, 160, 169. Рост взрослых дочерей: 173, 175, 162, 174, 175, 168, 155, 170, 160"
   ]
  },
  {
   "cell_type": "code",
   "execution_count": 27,
   "id": "9a00e413",
   "metadata": {},
   "outputs": [
    {
     "name": "stdout",
     "output_type": "stream",
     "text": [
      "Ttest_relResult(statistic=0.559522990335608, pvalue=0.5911212354055175)\n",
      "Вывод: средний рост взрослых дочерей 168.0 на уровне значимости 5% от роста матерей\n"
     ]
    }
   ],
   "source": [
    "mam_height = ([172, 177, 158, 170, 178, 175, 164, 160, 169])\n",
    "dot_height = ([173, 175, 162, 174, 175, 168, 155, 170, 160])\n",
    "\n",
    "res1 = stats.ttest_rel(mam_height, dot_height)\n",
    "print(res1)\n",
    "print(f'Вывод: средний рост взрослых дочерей {np.average(dot_height)} на уровне значимости 5% от роста матерей')"
   ]
  }
 ],
 "metadata": {
  "kernelspec": {
   "display_name": "Python 3 (ipykernel)",
   "language": "python",
   "name": "python3"
  },
  "language_info": {
   "codemirror_mode": {
    "name": "ipython",
    "version": 3
   },
   "file_extension": ".py",
   "mimetype": "text/x-python",
   "name": "python",
   "nbconvert_exporter": "python",
   "pygments_lexer": "ipython3",
   "version": "3.9.13"
  }
 },
 "nbformat": 4,
 "nbformat_minor": 5
}
