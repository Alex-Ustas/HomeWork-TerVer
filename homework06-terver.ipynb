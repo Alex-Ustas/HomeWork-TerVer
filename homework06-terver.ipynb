{
 "cells": [
  {
   "cell_type": "code",
   "execution_count": 2,
   "id": "32c18f38",
   "metadata": {},
   "outputs": [],
   "source": [
    "from scipy import stats\n",
    "import numpy as np"
   ]
  },
  {
   "cell_type": "markdown",
   "id": "55aaeb50",
   "metadata": {},
   "source": [
    "### 1. Известно, что генеральная совокупность распределена нормально со средним квадратическим отклонением, равным 16. Найти доверительный интервал для оценки математического ожидания a с надежностью 0.95, если выборочная средняя M = 80, а объем выборки n = 256."
   ]
  },
  {
   "cell_type": "code",
   "execution_count": 3,
   "id": "fe9da890",
   "metadata": {},
   "outputs": [
    {
     "name": "stdout",
     "output_type": "stream",
     "text": [
      "Доверительный интервал: [78.04; 81.96]\n"
     ]
    }
   ],
   "source": [
    "def z_value(x, z, n, sigma, flag):\n",
    "    if flag:\n",
    "        return x-z/np.sqrt(n)*sigma\n",
    "    else:\n",
    "        return x+z/np.sqrt(n)*sigma\n",
    "\n",
    "sigma = 16\n",
    "n = 256\n",
    "M = 80\n",
    "za = 1.96 # табличное значение\n",
    "\n",
    "print(f'Доверительный интервал: [{z_value(M, za, n, sigma, 1):.2f}; {z_value(M, za, n, sigma, 0):.2f}]')"
   ]
  },
  {
   "cell_type": "markdown",
   "id": "990c27d2",
   "metadata": {},
   "source": [
    "### 2. В результате 10 независимых измерений некоторой величины X, выполненных с одинаковой точностью, получены опытные данные: 6.9, 6.1, 6.2, 6.8, 7.5, 6.3, 6.4, 6.9, 6.7, 6.1. Предполагая, что результаты измерений подчинены нормальному закону распределения вероятностей, оценить истинное значение величины X при помощи доверительного интервала, покрывающего это значение с доверительной вероятностью 0,95."
   ]
  },
  {
   "cell_type": "code",
   "execution_count": 4,
   "id": "cd20ea0a",
   "metadata": {},
   "outputs": [
    {
     "name": "stdout",
     "output_type": "stream",
     "text": [
      "Доверительный интервал: [6.27; 6.91]\n"
     ]
    }
   ],
   "source": [
    "a = np.array([6.9, 6.1, 6.2, 6.8, 7.5, 6.3, 6.4, 6.9, 6.7, 6.1])\n",
    "n = len(a)\n",
    "alpha = 1 - 0.95\n",
    "\n",
    "x = np.mean(a)\n",
    "sigma = np.std(a, ddof=1)\n",
    "t = stats.t.ppf(1-alpha/2, n - 1)\n",
    "print(f'Доверительный интервал: [{z_value(x, t, n, sigma, 1):.2f}; {z_value(x, t, n, sigma, 0):.2f}]')"
   ]
  },
  {
   "cell_type": "markdown",
   "id": "bd27a80b",
   "metadata": {},
   "source": [
    "### 3. Построить 95% доверительный интервал для разности среднего роста родителей и детей.\n",
    "- Рост дочерей 175, 167, 154, 174, 178, 148, 160, 167, 169, 170\n",
    "- Рост матерей  178, 165, 165, 173, 168, 155, 160, 164, 178, 175"
   ]
  },
  {
   "cell_type": "code",
   "execution_count": 7,
   "id": "f452f740",
   "metadata": {},
   "outputs": [
    {
     "name": "stdout",
     "output_type": "stream",
     "text": [
      "Доверительный интервал: [-10.07; 6.27]\n"
     ]
    }
   ],
   "source": [
    "dot_height = ([175, 167, 154, 174, 178, 148, 160, 167, 169, 170])\n",
    "mam_height = ([178, 165, 165, 173, 168, 155, 160, 164, 178, 175])\n",
    "\n",
    "x1 = np.mean(dot_height)\n",
    "x2 = np.mean(mam_height)\n",
    "delta = x1 - x2\n",
    "\n",
    "n1 = len(dot_height)\n",
    "n2 = len(mam_height)\n",
    "n = (n1 + n2)/2\n",
    "alpha = 1 - 0.95\n",
    "t = stats.t.ppf(1-alpha/2, 2*(n - 1))\n",
    "\n",
    "D1 = np.var(dot_height, ddof=1)\n",
    "D2 = np.var(mam_height, ddof=1)\n",
    "D = (D1 + D2)/2\n",
    "SE = (D/n1 + D/n2) ** 0.5\n",
    "\n",
    "L = delta - t * SE\n",
    "U = delta + t * SE\n",
    "print(f'Доверительный интервал: [{L:.2f}; {U:.2f}]')"
   ]
  },
  {
   "cell_type": "code",
   "execution_count": null,
   "id": "89cf5ad9",
   "metadata": {},
   "outputs": [],
   "source": []
  }
 ],
 "metadata": {
  "kernelspec": {
   "display_name": "Python 3 (ipykernel)",
   "language": "python",
   "name": "python3"
  },
  "language_info": {
   "codemirror_mode": {
    "name": "ipython",
    "version": 3
   },
   "file_extension": ".py",
   "mimetype": "text/x-python",
   "name": "python",
   "nbconvert_exporter": "python",
   "pygments_lexer": "ipython3",
   "version": "3.9.13"
  }
 },
 "nbformat": 4,
 "nbformat_minor": 5
}
