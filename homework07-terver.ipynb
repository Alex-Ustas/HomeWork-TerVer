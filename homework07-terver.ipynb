{
 "cells": [
  {
   "cell_type": "code",
   "execution_count": 2,
   "id": "5155b197",
   "metadata": {},
   "outputs": [],
   "source": [
    "from scipy import stats\n",
    "import numpy as np"
   ]
  },
  {
   "cell_type": "markdown",
   "id": "e57f801e",
   "metadata": {},
   "source": [
    "### 1.  Даны две  независимые выборки. Не соблюдается условие нормальности\n",
    "\n",
    "- x1  380,420, 290\n",
    "- y1 140,360,200,900\n",
    "\n",
    "Сделайте вывод по результатам, полученным с помощью функции"
   ]
  },
  {
   "cell_type": "code",
   "execution_count": 3,
   "id": "28eceeb7",
   "metadata": {},
   "outputs": [
    {
     "data": {
      "text/plain": [
       "MannwhitneyuResult(statistic=8.0, pvalue=0.6285714285714286)"
      ]
     },
     "execution_count": 3,
     "metadata": {},
     "output_type": "execute_result"
    }
   ],
   "source": [
    "x1 = np.array([380, 420, 290])\n",
    "y1 = np.array([140, 360, 200, 900])\n",
    "stats.mannwhitneyu(x1, y1)\n",
    "#pvalue=0.6285714285714286 > alpha, поэтому статистически значимых различий нет"
   ]
  },
  {
   "cell_type": "markdown",
   "id": "86aa84a0",
   "metadata": {},
   "source": [
    "### 2. Исследовалось влияние препарата на уровень давления пациентов. Сначала измерялось давление до приема препарата, потом через 10 минут и через 30 минут. Есть ли статистически значимые различия?\n",
    "\n",
    "- 1е измерение до приема препарата: 150, 160, 165, 145, 155\n",
    "- 2е измерение через 10 минут: 140, 155, 150,  130, 135\n",
    "- 3е измерение через 30 минут: 130, 130, 120, 130, 125"
   ]
  },
  {
   "cell_type": "code",
   "execution_count": 4,
   "id": "35c659ae",
   "metadata": {},
   "outputs": [
    {
     "data": {
      "text/plain": [
       "FriedmanchisquareResult(statistic=9.578947368421062, pvalue=0.00831683351100441)"
      ]
     },
     "execution_count": 4,
     "metadata": {},
     "output_type": "execute_result"
    }
   ],
   "source": [
    "x1 = np.array([150, 160, 165, 145, 155])\n",
    "x2 = np.array([140, 155, 150, 130, 135])\n",
    "x3 = np.array([130, 130, 120, 130, 125])\n",
    "stats.friedmanchisquare(x1, x2, x3)\n",
    "# pvalue=0.00831683351100441 < alpha, поэтому есть статистически значемые результаты\n",
    "# Исследование показало, что препарат влияет на уровень давления пациентов"
   ]
  },
  {
   "cell_type": "markdown",
   "id": "094f4dc0",
   "metadata": {},
   "source": [
    "### 3. Сравните 1 и 2 е измерения, предполагая, что 3го измерения через 30 минут не было."
   ]
  },
  {
   "cell_type": "code",
   "execution_count": 5,
   "id": "b1b6ec44",
   "metadata": {},
   "outputs": [
    {
     "data": {
      "text/plain": [
       "WilcoxonResult(statistic=0.0, pvalue=0.0625)"
      ]
     },
     "execution_count": 5,
     "metadata": {},
     "output_type": "execute_result"
    }
   ],
   "source": [
    "x1 = np.array([150, 160, 165, 145, 155])\n",
    "x2 = np.array([140, 155, 150, 130, 135])\n",
    "stats.wilcoxon(x1, x2)\n",
    "# pvalue=0.0625 > alpha, поэтому статистически значемых различий нет\n",
    "# Исследование показало, что препарат не влияет на уровень давления пациентов"
   ]
  },
  {
   "cell_type": "markdown",
   "id": "00a59854",
   "metadata": {},
   "source": [
    "### 4. Даны 3 группы  учеников плавания.\n",
    "\n",
    "- В 1 группе время на дистанцию 50 м составляют: 56, 60, 62, 55, 71, 67, 59, 58, 64, 67\n",
    "- Вторая группа : 57, 58, 69, 48, 72, 70, 68, 71, 50, 53\n",
    "- Третья группа: 57, 67, 49, 48, 47, 55, 66, 51, 54"
   ]
  },
  {
   "cell_type": "code",
   "execution_count": 6,
   "id": "66a600c9",
   "metadata": {},
   "outputs": [
    {
     "data": {
      "text/plain": [
       "KruskalResult(statistic=5.465564058257224, pvalue=0.0650380998590494)"
      ]
     },
     "execution_count": 6,
     "metadata": {},
     "output_type": "execute_result"
    }
   ],
   "source": [
    "x1 = np.array([56, 60, 62, 55, 71, 67, 59, 58, 64, 67])\n",
    "x2 = np.array([57, 58, 69, 48, 72, 70, 68, 71, 50, 53])\n",
    "x3 = np.array([57, 67, 49, 48, 47, 55, 66, 51, 54])\n",
    "stats.kruskal(x1, x2, x3)\n",
    "# pvalue=0.0650380998590494 > alpha, поэтому статистически значемых различий нет\n",
    "# Вывод: время на дистанции одинаковое"
   ]
  },
  {
   "cell_type": "markdown",
   "id": "046abc32",
   "metadata": {},
   "source": [
    "### 5. Заявляется, что партия изготавливается со средним арифметическим 2,5 см. Проверить данную гипотезу, если известно, что размеры изделий подчинены нормальному закону распределения. Объем выборки 10, уровень статистической значимости 5%\n",
    "\n",
    "- 2.51, 2.35, 2.74, 2.56, 2.40, 2.36, 2.65, 2.7, 2.67, 2.34"
   ]
  },
  {
   "cell_type": "code",
   "execution_count": 9,
   "id": "4d1d9749",
   "metadata": {},
   "outputs": [
    {
     "name": "stdout",
     "output_type": "stream",
     "text": [
      "0.5630613661802959\n"
     ]
    },
    {
     "data": {
      "text/plain": [
       "2.2621571627409915"
      ]
     },
     "execution_count": 9,
     "metadata": {},
     "output_type": "execute_result"
    }
   ],
   "source": [
    "x = np.array([2.51, 2.35, 2.74, 2.56, 2.40, 2.36, 2.65, 2.7, 2.67, 2.34])\n",
    "n = 10\n",
    "mean = np.mean(x) # среднее арифметическое\n",
    "std = x.std(ddof=1)\n",
    "t = (mean-2.5) / (std/np.sqrt(n))\n",
    "print(t)\n",
    "\n",
    "# Доверительна вероятность 0.05, число свободы: n - 1 = 9\n",
    "# по таблице стьюдента находим критическое:\n",
    "stats.t.ppf(0.975, 9)  # 9 степеней свободы\n",
    "\n",
    "# расчетное значение = 0.5630613661802959 > t-наблюдаемого = 2.2621571627409915\n",
    "# Вывод: на уровне alpha = 5% статистически значимых различий нет"
   ]
  },
  {
   "cell_type": "code",
   "execution_count": null,
   "id": "68bc770d",
   "metadata": {},
   "outputs": [],
   "source": []
  }
 ],
 "metadata": {
  "kernelspec": {
   "display_name": "Python 3 (ipykernel)",
   "language": "python",
   "name": "python3"
  },
  "language_info": {
   "codemirror_mode": {
    "name": "ipython",
    "version": 3
   },
   "file_extension": ".py",
   "mimetype": "text/x-python",
   "name": "python",
   "nbconvert_exporter": "python",
   "pygments_lexer": "ipython3",
   "version": "3.9.13"
  }
 },
 "nbformat": 4,
 "nbformat_minor": 5
}
