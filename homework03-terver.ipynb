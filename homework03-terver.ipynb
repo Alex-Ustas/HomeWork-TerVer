{
 "cells": [
  {
   "cell_type": "code",
   "execution_count": 1,
   "id": "2ccee76f",
   "metadata": {},
   "outputs": [],
   "source": [
    "import numpy as np\n",
    "from math import factorial"
   ]
  },
  {
   "cell_type": "code",
   "execution_count": 12,
   "id": "d04c1e51",
   "metadata": {},
   "outputs": [],
   "source": [
    "def combinations(n,k):\n",
    "    return factorial(n)/(factorial(k)*factorial(n-k))"
   ]
  },
  {
   "cell_type": "markdown",
   "id": "45351d20",
   "metadata": {},
   "source": [
    "### 1. Даны значения зарплат из выборки выпускников: 100, 80, 75, 77, 89, 33, 45, 25, 65, 17, 30, 24, 57, 55, 70, 75, 65, 84, 90, 150. Посчитать (желательно без использования статистических методов наподобие std, var, mean) среднее арифметическое, среднее квадратичное отклонение, смещенную и несмещенную оценки дисперсий для данной выборки."
   ]
  },
  {
   "cell_type": "code",
   "execution_count": 13,
   "id": "e98d47f7",
   "metadata": {},
   "outputs": [
    {
     "name": "stdout",
     "output_type": "stream",
     "text": [
      "Среднее арифметическое: 65.3\n",
      "Среднее квадратичное отклонение: 30.82\n",
      "Смещенная оценка дисперсии: 950.11\n",
      "Несмещенная оценка дисперсии: 1000.12\n"
     ]
    }
   ],
   "source": [
    "arr=np.array([100, 80, 75, 77, 89, 33, 45, 25, 65, 17, 30, 24, 57, 55, 70, 75, 65, 84, 90, 150])\n",
    "arr.sort()\n",
    "\n",
    "average = sum(arr) / len(arr)\n",
    "print('Среднее арифметическое:', average)\n",
    "\n",
    "sd = (arr - average) ** 2\n",
    "print('Среднее квадратичное отклонение:', round((sum(sd)/len(sd)) ** (1/2), 2))\n",
    "\n",
    "biased_var_estimation = sum(sd)/len(sd)\n",
    "unbiased_var_estimation = sum(sd)/(len(sd)-1)\n",
    "print('Смещенная оценка дисперсии:', round(biased_var_estimation, 2))\n",
    "print('Несмещенная оценка дисперсии:', round(unbiased_var_estimation, 2))"
   ]
  },
  {
   "cell_type": "markdown",
   "id": "bf268181",
   "metadata": {},
   "source": [
    "### 2. В первом ящике находится 8 мячей, из которых 5 - белые. Во втором ящике - 12 мячей, из которых 5 белых. Из первого ящика вытаскивают случайным образом два мяча, из второго - 4. Какова вероятность того, что 3 мяча белые?"
   ]
  },
  {
   "cell_type": "code",
   "execution_count": 20,
   "id": "4beeea9e",
   "metadata": {},
   "outputs": [
    {
     "name": "stdout",
     "output_type": "stream",
     "text": [
      "Вероятность вытащить 3 белых мяча = P1(1.52%) + P2(22.73%) + P3(12.63%) = 36.87%\n"
     ]
    }
   ],
   "source": [
    "# Вероятность того, что из первой корзины вытащили 0 белых мяча, из второй - 3\n",
    "P1 = (combinations(3,2)/combinations(8,2))*(combinations(5,3)*combinations(7,1)/combinations(12,4)) * 100\n",
    "\n",
    "# Вероятность того, что из первой корзины вытащили 1 белый мяч, из второй - 2\n",
    "P2 = (combinations(5,1)*combinations(3,1)*combinations(5,2)*combinations(7,2))/(combinations(8,2)*combinations(12,4)) * 100\n",
    "\n",
    "# Вероятность того, что из первой корзины вытащили 2 белых мяча, из второй - 1\n",
    "P3 = (combinations(5,2)*combinations(5,1)*combinations(7,3))/(combinations(8,2)*combinations(12,4)) * 100\n",
    "\n",
    "print(f'Вероятность вытащить 3 белых мяча = P1({round(P1,2)}%) + P2({round(P2,2)}%) + P3({round(P3,2)}%) = {round(P1 + P2 + P3, 2)}%')"
   ]
  },
  {
   "cell_type": "markdown",
   "id": "0aa25cd8",
   "metadata": {},
   "source": [
    "### 3. На соревновании по биатлону один из трех спортсменов стреляет и попадает в мишень. Вероятность попадания для первого спортсмена равна 0.9, для второго — 0.8, для третьего — 0.6. Найти вероятность того, что выстрел произведен:"
   ]
  },
  {
   "cell_type": "markdown",
   "id": "a74f9786",
   "metadata": {},
   "source": [
    "_**a) первым спортсменом**_"
   ]
  },
  {
   "cell_type": "markdown",
   "id": "3efc92f4",
   "metadata": {},
   "source": [
    "_**б) вторым спортсменом**_"
   ]
  },
  {
   "cell_type": "markdown",
   "id": "5912aa42",
   "metadata": {},
   "source": [
    "_**в) третьим спортсменом**_"
   ]
  },
  {
   "cell_type": "code",
   "execution_count": 29,
   "id": "17de2194",
   "metadata": {},
   "outputs": [
    {
     "name": "stdout",
     "output_type": "stream",
     "text": [
      "Вероятность того, что выстрел произвёл первый спортсмен: 39.13%\n",
      "Вероятность того, что выстрел произвёл второй спортсмен: 34.78%\n",
      "Вероятность того, что выстрел произвёл третий спортсмен: 26.09%\n"
     ]
    }
   ],
   "source": [
    "# A - цель поражена\n",
    "# B(1,2,3) - первым, вторым или третьим спортсменом, вероятность каждого - 1/3\n",
    "# P(A) = P(B1)*PB1(A) + P(B2)*PB2(A) + P(B3)*PB3(A)\n",
    "PB = 1/3\n",
    "PA = PB*0.9 + PB*0.8 + PB*0.6\n",
    "PAB1 = PB*0.9/PA\n",
    "PAB2 = PB*0.8/PA\n",
    "PAB3 = PB*0.6/PA\n",
    "print(f'Вероятность того, что выстрел произвёл первый спортсмен: {round(PAB1 * 100, 2)}%')\n",
    "print(f'Вероятность того, что выстрел произвёл второй спортсмен: {round(PAB2 * 100, 2)}%')\n",
    "print(f'Вероятность того, что выстрел произвёл третий спортсмен: {round(PAB3 * 100, 2)}%')"
   ]
  },
  {
   "cell_type": "markdown",
   "id": "0c9384d4",
   "metadata": {},
   "source": [
    "### 4. В университет на факультеты A и B поступило равное количество студентов, а на факультет C студентов поступило столько же, сколько на A и B вместе. Вероятность того, что студент факультета A сдаст первую сессию, равна 0.8. Для студента факультета B эта вероятность равна 0.7, а для студента факультета C - 0.9. Студент сдал первую сессию. Какова вероятность, что он учится:"
   ]
  },
  {
   "cell_type": "markdown",
   "id": "176e8b3b",
   "metadata": {},
   "source": [
    "_**a) на факультете A**_"
   ]
  },
  {
   "cell_type": "markdown",
   "id": "e6900568",
   "metadata": {},
   "source": [
    "_**б) на факультете B**_"
   ]
  },
  {
   "cell_type": "markdown",
   "id": "76543d6e",
   "metadata": {},
   "source": [
    "_**в) на факультете C**_"
   ]
  },
  {
   "cell_type": "code",
   "execution_count": 31,
   "id": "65bcbf22",
   "metadata": {},
   "outputs": [
    {
     "name": "stdout",
     "output_type": "stream",
     "text": [
      "Полная вероятность (сессия сдана): 82.5%\n",
      "Вероятность того, что студент учится на факультете А: 24.24%\n",
      "Вероятность того, что студент учится на факультете B: 21.21%\n",
      "Вероятность того, что студент учится на факультете C: 54.55%\n"
     ]
    }
   ],
   "source": [
    "# A - сессия сдана\n",
    "# B(1,2,3) - первым, вторым или третьим студентом\n",
    "# 1/n + 1/n + 1/2n = 1 => 5/2n = 1 =>\n",
    "PB1 = PB2 = 0.25\n",
    "PB3 = 0.5\n",
    "PA = PB1*0.8 + PB2*0.7 + PB3*0.9\n",
    "print(f'Полная вероятность (сессия сдана): {PA * 100}%')\n",
    "\n",
    "PAB1 = PB1*0.8/PA\n",
    "PAB2 = PB2*0.7/PA\n",
    "PAB3 = PB3*0.9/PA\n",
    "print(f'Вероятность того, что студент учится на факультете А: {round(PAB1 * 100, 2)}%')\n",
    "print(f'Вероятность того, что студент учится на факультете B: {round(PAB2 * 100, 2)}%')\n",
    "print(f'Вероятность того, что студент учится на факультете C: {round(PAB3 * 100, 2)}%')"
   ]
  },
  {
   "cell_type": "markdown",
   "id": "58d563a0",
   "metadata": {},
   "source": [
    "### 5. Устройство состоит из трех деталей. Для первой детали вероятность выйти из строя в первый месяц равна 0.1, для второй - 0.2, для третьей - 0.25. Какова вероятность того, что в первый месяц выйдут из строя:"
   ]
  },
  {
   "cell_type": "markdown",
   "id": "0c2b5a2f",
   "metadata": {},
   "source": [
    "_**а) все детали**_"
   ]
  },
  {
   "cell_type": "markdown",
   "id": "ad022b01",
   "metadata": {},
   "source": [
    "_**б) только две детали**_"
   ]
  },
  {
   "cell_type": "markdown",
   "id": "7da9beee",
   "metadata": {},
   "source": [
    "_**в) хотя бы одна деталь**_"
   ]
  },
  {
   "cell_type": "markdown",
   "id": "641cfe5e",
   "metadata": {},
   "source": [
    "_**г) от одной до двух деталей**_"
   ]
  },
  {
   "cell_type": "code",
   "execution_count": 36,
   "id": "a3035a7f",
   "metadata": {},
   "outputs": [
    {
     "name": "stdout",
     "output_type": "stream",
     "text": [
      "Вероятность того, что из строя выйдут все детали = 0.5%\n",
      "Вероятность того, что из строя выйдут только две детали = 8.0%\n",
      "Вероятность того, что из строя выйдет хотя бы одна деталь = 46.0%\n",
      "Вероятность того, что из строя выйдут от одной до двух деталей = 45.5%\n"
     ]
    }
   ],
   "source": [
    "PB1 = 0.1\n",
    "PB2 = 0.2\n",
    "PB3 = 0.25\n",
    "PA1 = PB1 * PB2 * PB3\n",
    "print(f'Вероятность того, что из строя выйдут все детали = {round(PA1 * 100, 2)}%')\n",
    "\n",
    "P_B1 = 1 - PB1\n",
    "P_B2 = 1 - PB2\n",
    "P_B3 = 1 - PB3\n",
    "PA2 = PB1*PB2*P_B3 + PB1*P_B2*PB3 + P_B1*PB2*PB3\n",
    "print(f'Вероятность того, что из строя выйдут только две детали = {round(PA2 * 100, 2)}%')\n",
    "\n",
    "PA0 = P_B1*P_B2*P_B3 # ни одной детали\n",
    "PA3 = 1 - PA0\n",
    "print(f'Вероятность того, что из строя выйдет хотя бы одна деталь = {round(PA3 * 100, 2)}%')\n",
    "\n",
    "# только одна деталь\n",
    "PA_1 = PB1*P_B2*P_B3 + P_B1*PB2*P_B3 + P_B1*P_B2*PB3\n",
    "PA4 = PA_1 + PA2\n",
    "print(f'Вероятность того, что из строя выйдут от одной до двух деталей = {round(PA4 * 100, 2)}%')"
   ]
  },
  {
   "cell_type": "code",
   "execution_count": null,
   "id": "9dacc3db",
   "metadata": {},
   "outputs": [],
   "source": []
  }
 ],
 "metadata": {
  "kernelspec": {
   "display_name": "Python 3 (ipykernel)",
   "language": "python",
   "name": "python3"
  },
  "language_info": {
   "codemirror_mode": {
    "name": "ipython",
    "version": 3
   },
   "file_extension": ".py",
   "mimetype": "text/x-python",
   "name": "python",
   "nbconvert_exporter": "python",
   "pygments_lexer": "ipython3",
   "version": "3.9.13"
  }
 },
 "nbformat": 4,
 "nbformat_minor": 5
}
