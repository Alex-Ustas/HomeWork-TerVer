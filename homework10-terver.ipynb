{
 "cells": [
  {
   "cell_type": "code",
   "execution_count": 1,
   "id": "b8cfe8fe",
   "metadata": {},
   "outputs": [],
   "source": [
    "from scipy import stats\n",
    "import numpy as np"
   ]
  },
  {
   "cell_type": "markdown",
   "id": "129303b3",
   "metadata": {},
   "source": [
    "### Провести дисперсионный анализ для определения того, есть ли различия среднего роста среди взрослых футболистов, хоккеистов и штангистов.\n",
    "\n",
    "Даны значения роста в трех группах случайно выбранных спортсменов:\n",
    "- Футболисты: 173, 175, 180, 178, 177, 185, 183, 182.\n",
    "- Хоккеисты: 177, 179, 180, 188, 177, 172, 171, 184, 180.\n",
    "- Штангисты: 172, 173, 169, 177, 166, 180, 178, 177, 172, 166, 170."
   ]
  },
  {
   "cell_type": "code",
   "execution_count": 5,
   "id": "07a68159",
   "metadata": {},
   "outputs": [
    {
     "data": {
      "text/plain": [
       "176.46428571428572"
      ]
     },
     "execution_count": 5,
     "metadata": {},
     "output_type": "execute_result"
    }
   ],
   "source": [
    "football = np.array([173, 175, 180, 178, 177, 185, 183, 182])\n",
    "hockey = np.array([177, 179, 180, 188, 177, 172, 171, 184, 180])\n",
    "fitness = np.array([172, 173, 169, 177, 166, 180, 178, 177, 172, 166, 170])\n",
    "\n",
    "n1 = len(football)\n",
    "n2 = len(hockey)\n",
    "n3 = len(fitness)\n",
    "\n",
    "football_mean = football.mean()\n",
    "hockey_mean = hockey.mean()\n",
    "fitness_mean = fitness.mean()\n",
    "\n",
    "all_types = np.concatenate([football, hockey, fitness])\n",
    "\n",
    "y_all_mean = np.mean(all_types) # Среднее значение роста спортсменов\n",
    "y_all_mean"
   ]
  },
  {
   "cell_type": "code",
   "execution_count": 22,
   "id": "f0869882",
   "metadata": {},
   "outputs": [
    {
     "data": {
      "text/plain": [
       "253.9074675324678"
      ]
     },
     "execution_count": 22,
     "metadata": {},
     "output_type": "execute_result"
    }
   ],
   "source": [
    "# Сумма квадратов отключений среди групповых значений от общего среднего\n",
    "S2_F = n1 * (football_mean - y_all_mean) ** 2 + n2 * (hockey_mean - y_all_mean) ** 2 + n3 * (fitness_mean - y_all_mean) ** 2\n",
    "S2_F"
   ]
  },
  {
   "cell_type": "code",
   "execution_count": 27,
   "id": "73e57ff7",
   "metadata": {},
   "outputs": [
    {
     "data": {
      "text/plain": [
       "577.0568181818182"
      ]
     },
     "execution_count": 27,
     "metadata": {},
     "output_type": "execute_result"
    }
   ],
   "source": [
    "# Остаточная сумма квадратов отклонений\n",
    "S2_ost = ((football - football_mean)**2).sum() +  ((hockey - hockey_mean)**2).sum() + ((fitness - fitness_mean)**2).sum()\n",
    "S2_ost"
   ]
  },
  {
   "cell_type": "code",
   "execution_count": 30,
   "id": "7c4ab30a",
   "metadata": {},
   "outputs": [
    {
     "name": "stdout",
     "output_type": "stream",
     "text": [
      "126.9537337662339 23.08227272727273\n"
     ]
    }
   ],
   "source": [
    "k = 3\n",
    "n = n1 + n2 + n3\n",
    "\n",
    "k1 = k - 1\n",
    "k2 = n - k\n",
    "\n",
    "sigma2_F = S2_F / k1 # Факторная дисперсия\n",
    "sigma2_ost = S2_ost / k2 # Остаточная дисперсия\n",
    "\n",
    "print(sigma2_F, sigma2_ost)"
   ]
  },
  {
   "cell_type": "code",
   "execution_count": 32,
   "id": "46bbb58d",
   "metadata": {},
   "outputs": [
    {
     "data": {
      "text/plain": [
       "5.500053450812598"
      ]
     },
     "execution_count": 32,
     "metadata": {},
     "output_type": "execute_result"
    }
   ],
   "source": [
    "T = sigma2_F / sigma2_ost # Значение статистики\n",
    "T"
   ]
  },
  {
   "cell_type": "code",
   "execution_count": 34,
   "id": "b0183d75",
   "metadata": {},
   "outputs": [
    {
     "data": {
      "text/plain": [
       "F_onewayResult(statistic=5.500053450812596, pvalue=0.010482206918698694)"
      ]
     },
     "execution_count": 34,
     "metadata": {},
     "output_type": "execute_result"
    }
   ],
   "source": [
    "f = stats.f_oneway(football, hockey, fitness)\n",
    "f"
   ]
  },
  {
   "cell_type": "code",
   "execution_count": 37,
   "id": "df48bdc5",
   "metadata": {},
   "outputs": [
    {
     "data": {
      "text/plain": [
       "3.3851899614491687"
      ]
     },
     "execution_count": 37,
     "metadata": {},
     "output_type": "execute_result"
    }
   ],
   "source": [
    "alpha = 0.05\n",
    "F_crit = stats.f.ppf(1 - alpha, k1, k2) # Критическое значение\n",
    "F_crit"
   ]
  },
  {
   "cell_type": "markdown",
   "id": "0ed70660",
   "metadata": {},
   "source": [
    "#### Вывод:\n",
    "- Функция показала pvalue=0.010482206918698694, это значение меньше чем alpha=0.05\n",
    "- Когда pvalue < a, то вывод в пользу альтернативной гипотезы\n",
    "- Так как T > F_crit значит, что отличие среднего роста спортсменов является статистически значимым"
   ]
  },
  {
   "cell_type": "code",
   "execution_count": null,
   "id": "761d7157",
   "metadata": {},
   "outputs": [],
   "source": []
  }
 ],
 "metadata": {
  "kernelspec": {
   "display_name": "Python 3 (ipykernel)",
   "language": "python",
   "name": "python3"
  },
  "language_info": {
   "codemirror_mode": {
    "name": "ipython",
    "version": 3
   },
   "file_extension": ".py",
   "mimetype": "text/x-python",
   "name": "python",
   "nbconvert_exporter": "python",
   "pygments_lexer": "ipython3",
   "version": "3.9.13"
  }
 },
 "nbformat": 4,
 "nbformat_minor": 5
}
